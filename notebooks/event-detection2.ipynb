{
  "cells": [
    {
      "cell_type": "markdown",
      "metadata": {},
      "source": [
        "# Event Detection"
      ]
    },
    {
      "cell_type": "code",
      "execution_count": 1,
      "metadata": {},
      "outputs": [
        {
          "data": {
            "text/plain": [
              "True"
            ]
          },
          "execution_count": 1,
          "metadata": {},
          "output_type": "execute_result"
        }
      ],
      "source": [
        "from dotenv import load_dotenv\n",
        "\n",
        "# Load environment variables\n",
        "load_dotenv()"
      ]
    },
    {
      "cell_type": "code",
      "execution_count": 2,
      "metadata": {},
      "outputs": [
        {
          "name": "stdout",
          "output_type": "stream",
          "text": [
            "Generating config for ('gpt-3.5-turbo',)\n",
            "Generating config for ('gpt-3.5-turbo',)\n"
          ]
        },
        {
          "name": "stderr",
          "output_type": "stream",
          "text": [
            "/Users/plb/Documents/phospho/code/clients/phospho/.venv/lib/python3.9/site-packages/urllib3/__init__.py:35: NotOpenSSLWarning: urllib3 v2 only supports OpenSSL 1.1.1+, currently the 'ssl' module is compiled with 'LibreSSL 2.8.3'. See: https://github.com/urllib3/urllib3/issues/3020\n",
            "  warnings.warn(\n"
          ]
        }
      ],
      "source": [
        "from phospho import lab\n",
        "from typing import Literal\n",
        "\n",
        "class EventConfig(lab.JobConfig):\n",
        "    event_name: str\n",
        "    event_description: str\n",
        "    model: Literal[\"gpt-4\", \"gpt-3.5-turbo\"] = \"gpt-4\"\n",
        "\n",
        "\n",
        "# Create a workload\n",
        "workload = lab.Workload()\n",
        "workload.add_job(\n",
        "    lab.Job(\n",
        "        name=\"event_detection\",\n",
        "        id=\"question_answering\",\n",
        "        config=EventConfig(\n",
        "            event_name=\"Question Answering\",\n",
        "            event_description=\"User asks a question to the assistant\",\n",
        "            model=\"gpt-4\"\n",
        "        )\n",
        "    )\n",
        ")\n",
        "workload.add_job(\n",
        "    lab.Job(\n",
        "        name=\"event_detection\",\n",
        "        id=\"doesnt_know\",\n",
        "        config=EventConfig(\n",
        "            event_name=\"Assistant doesn't know\",\n",
        "            event_description=\"The assistant says that it doesn't know or can't help the user\",\n",
        "            model=\"gpt-4\"\n",
        "        )\n",
        "    )\n",
        ")\n",
        "# workload.add_job(\n",
        "#     lab.Job(\n",
        "#         name=\"event_detection\",\n",
        "#         id=\"doesnt_know\",\n",
        "#         config=EventConfig(\n",
        "#             event_name=\"Assistant doesn't know\",\n",
        "#             event_description=\"The assistant says that it doesn't know or can't help the user\",\n",
        "#         )\n",
        "#     )\n",
        "# )\n",
        "# workload.add_job(\n",
        "#     lab.Job(\n",
        "#         name=\"event_detection\",\n",
        "#         id=\"doesnt_know\",\n",
        "#         config=EventConfig(\n",
        "#             event_name=\"Assistant doesn't know\",\n",
        "#             event_description=\"The assistant says that it doesn't know or can't help the user\",\n",
        "#         )\n",
        "#     )\n",
        "# )\n",
        "# workload.add_job(\n",
        "#     lab.Job(\n",
        "#         name=\"event_detection\",\n",
        "#         id=\"doesnt_know\",\n",
        "#         config=EventConfig(\n",
        "#             event_name=\"Assistant doesn't know\",\n",
        "#             event_description=\"The assistant says that it doesn't know or can't help the user\",\n",
        "#         )\n",
        "#     )\n",
        "# )\n",
        "# workload.add_job(\n",
        "#     lab.Job(\n",
        "#         name=\"event_detection\",\n",
        "#         id=\"doesnt_know\",\n",
        "#         config=EventConfig(\n",
        "#             event_name=\"Assistant doesn't know\",\n",
        "#             event_description=\"The assistant says that it doesn't know or can't help the user\",\n",
        "#         )\n",
        "#     )\n",
        "# )\n",
        "# workload.add_job(\n",
        "#     lab.Job(\n",
        "#         name=\"event_detection\",\n",
        "#         id=\"doesnt_know\",\n",
        "#         config=EventConfig(\n",
        "#             event_name=\"Assistant doesn't know\",\n",
        "#             event_description=\"The assistant says that it doesn't know or can't help the user\",\n",
        "#         )\n",
        "#     )\n",
        "# )\n"
      ]
    },
    {
      "cell_type": "code",
      "execution_count": 3,
      "metadata": {},
      "outputs": [],
      "source": [
        "# Create some messages\n",
        "messages = [\n",
        "    lab.Message(\n",
        "        id=\"1\",\n",
        "        # content=\"I don't know what you are talking about.\",\n",
        "        role=\"Assistant\",\n",
        "        content=\"You just need to click on the checkout button.\",\n",
        "\n",
        "        previous_messages=[\n",
        "            lab.Message(\n",
        "                id=\"2\",\n",
        "                role=\"User\",\n",
        "                content=\"How to buy the Michelin tires on the website?\",\n",
        "            ),\n",
        "        ]\n",
        "    ),\n",
        "    lab.Message(\n",
        "        id=\"2\",\n",
        "        role=\"User\",\n",
        "        content=\"How to buy the Michelin tires on the website?\",\n",
        "    ),\n",
        "    lab.Message(\n",
        "        id=\"3\",\n",
        "        role=\"Assistant\",\n",
        "        content=\"I don't know.\",\n",
        "    ),\n",
        "]"
      ]
    },
    {
      "cell_type": "code",
      "execution_count": 4,
      "metadata": {},
      "outputs": [],
      "source": [
        "workload_results = await workload.async_run(messages=messages, executor_type=\"parallel\")"
      ]
    },
    {
      "cell_type": "code",
      "execution_count": 5,
      "metadata": {},
      "outputs": [],
      "source": [
        "await workload.async_run_on_alternative_configurations(messages=messages, executor_type=\"parallel\")"
      ]
    },
    {
      "cell_type": "code",
      "execution_count": 6,
      "metadata": {},
      "outputs": [
        {
          "name": "stdout",
          "output_type": "stream",
          "text": [
            "[{'2': JobResult(created_at=1709086093, job_id='event_detection', result_type=<ResultType.bool: 'bool'>, value=True, logs=['\\nYou are classifying an interaction between an end user and an assistant. The assistant is a chatbot that can perform tasks for the end user and answer his questions. \\nThe assistant might make some mistakes or not be useful.\\nThe event you are looking for is: User asks a question to the assistant \\nThe name of the event is: Question Answering\\n\\nHere are the previous messages of the conversation before the interaction to help you better understand the extract:\\n[START CONTEXT]\\nNone\\n[END CONTEXT]\\n\\nHere is the transcript of the interaction:\\n[START INTERACTION]\\nUser: How to buy the Michelin tires on the website?\\n[END INTERACTION]\\n\\nYou have to say if the event is present in the transcript or not. Respond with only one word, True or False.\\n    ', 'True'], metadata={'api_call_time': 0.3833949565887451, 'evaluation_source': 'phospho-4'}), '1': JobResult(created_at=1709086093, job_id='event_detection', result_type=<ResultType.bool: 'bool'>, value=True, logs=['\\nYou are classifying an interaction between an end user and an assistant. The assistant is a chatbot that can perform tasks for the end user and answer his questions. \\nThe assistant might make some mistakes or not be useful.\\nThe event you are looking for is: User asks a question to the assistant\\nThe name of the event is: Question Answering\\n\\nHere is the transcript of the interaction:\\n[START INTERACTION]\\nUser: How to buy the Michelin tires on the website?\\nAssistant: You just need to click on the checkout button.\\n[END INTERACTION]\\n\\nYou have to say if the event is present in the transcript or not. Respond with only one word, True or False.\\n    ', 'True'], metadata={'api_call_time': 0.6402480602264404, 'evaluation_source': 'phospho-4'}), '3': JobResult(created_at=1709086093, job_id='event_detection', result_type=<ResultType.bool: 'bool'>, value=True, logs=[\"\\nYou are classifying an interaction between an end user and an assistant. The assistant is a chatbot that can perform tasks for the end user and answer his questions. \\nThe assistant might make some mistakes or not be useful.\\nThe event you are looking for is: User asks a question to the assistant \\nThe name of the event is: Question Answering\\n\\nHere are the previous messages of the conversation before the interaction to help you better understand the extract:\\n[START CONTEXT]\\nNone\\n[END CONTEXT]\\n\\nHere is the transcript of the interaction:\\n[START INTERACTION]\\nAssistant: I don't know.\\n[END INTERACTION]\\n\\nYou have to say if the event is present in the transcript or not. Respond with only one word, True or False.\\n    \", 'True'], metadata={'api_call_time': 0.6230759620666504, 'evaluation_source': 'phospho-4'})}]\n",
            "{'2': JobResult(created_at=1709086092, job_id='event_detection', result_type=<ResultType.bool: 'bool'>, value=True, logs=['\\nYou are classifying an interaction between an end user and an assistant. The assistant is a chatbot that can perform tasks for the end user and answer his questions. \\nThe assistant might make some mistakes or not be useful.\\nThe event you are looking for is: User asks a question to the assistant \\nThe name of the event is: Question Answering\\n\\nHere are the previous messages of the conversation before the interaction to help you better understand the extract:\\n[START CONTEXT]\\nNone\\n[END CONTEXT]\\n\\nHere is the transcript of the interaction:\\n[START INTERACTION]\\nUser: How to buy the Michelin tires on the website?\\n[END INTERACTION]\\n\\nYou have to say if the event is present in the transcript or not. Respond with only one word, True or False.\\n    ', 'True'], metadata={'api_call_time': 0.4132051467895508, 'evaluation_source': 'phospho-4'}), '3': JobResult(created_at=1709086092, job_id='event_detection', result_type=<ResultType.bool: 'bool'>, value=False, logs=[\"\\nYou are classifying an interaction between an end user and an assistant. The assistant is a chatbot that can perform tasks for the end user and answer his questions. \\nThe assistant might make some mistakes or not be useful.\\nThe event you are looking for is: User asks a question to the assistant \\nThe name of the event is: Question Answering\\n\\nHere are the previous messages of the conversation before the interaction to help you better understand the extract:\\n[START CONTEXT]\\nNone\\n[END CONTEXT]\\n\\nHere is the transcript of the interaction:\\n[START INTERACTION]\\nAssistant: I don't know.\\n[END INTERACTION]\\n\\nYou have to say if the event is present in the transcript or not. Respond with only one word, True or False.\\n    \", 'False'], metadata={'api_call_time': 0.8565959930419922, 'evaluation_source': 'phospho-4'}), '1': JobResult(created_at=1709086092, job_id='event_detection', result_type=<ResultType.bool: 'bool'>, value=True, logs=['\\nYou are classifying an interaction between an end user and an assistant. The assistant is a chatbot that can perform tasks for the end user and answer his questions. \\nThe assistant might make some mistakes or not be useful.\\nThe event you are looking for is: User asks a question to the assistant\\nThe name of the event is: Question Answering\\n\\nHere is the transcript of the interaction:\\n[START INTERACTION]\\nUser: How to buy the Michelin tires on the website?\\nAssistant: You just need to click on the checkout button.\\n[END INTERACTION]\\n\\nYou have to say if the event is present in the transcript or not. Respond with only one word, True or False.\\n    ', 'True'], metadata={'api_call_time': 0.881209135055542, 'evaluation_source': 'phospho-4'})}\n"
          ]
        }
      ],
      "source": [
        "jobs = workload.jobs\n",
        "print(jobs[0].alternative_results)\n",
        "print(jobs[0].results)"
      ]
    },
    {
      "cell_type": "code",
      "execution_count": 7,
      "metadata": {},
      "outputs": [
        {
          "name": "stdout",
          "output_type": "stream",
          "text": [
            "accuracies: [0.6666666666666666]\n",
            "in for loop\n",
            "accuracies: [0.6666666666666666]\n",
            "in for loop\n"
          ]
        }
      ],
      "source": [
        "workload.optimize_jobs(accuracy_threshold=0.5, min_count=1)"
      ]
    },
    {
      "cell_type": "code",
      "execution_count": 8,
      "metadata": {},
      "outputs": [
        {
          "data": {
            "text/plain": [
              "[Job(\n",
              "   job_id=question_answering,\n",
              "   job_name=event_detection,\n",
              "   config={\n",
              " event_name='Question Answering' event_description='User asks a question to the assistant' model='gpt-4'\n",
              "   }\n",
              " ),\n",
              " Job(\n",
              "   job_id=doesnt_know,\n",
              "   job_name=event_detection,\n",
              "   config={\n",
              " event_name=\"Assistant doesn't know\" event_description=\"The assistant says that it doesn't know or can't help the user\" model='gpt-4'\n",
              "   }\n",
              " )]"
            ]
          },
          "execution_count": 8,
          "metadata": {},
          "output_type": "execute_result"
        }
      ],
      "source": [
        "workload.jobs"
      ]
    },
    {
      "cell_type": "code",
      "execution_count": 9,
      "metadata": {},
      "outputs": [
        {
          "ename": "KeyError",
          "evalue": "'current'",
          "output_type": "error",
          "traceback": [
            "\u001b[0;31m---------------------------------------------------------------------------\u001b[0m",
            "\u001b[0;31mKeyError\u001b[0m                                  Traceback (most recent call last)",
            "Cell \u001b[0;32mIn[9], line 2\u001b[0m\n\u001b[1;32m      1\u001b[0m \u001b[38;5;66;03m# If the event was detected\u001b[39;00m\n\u001b[0;32m----> 2\u001b[0m \u001b[43mworkload\u001b[49m\u001b[38;5;241;43m.\u001b[39;49m\u001b[43mresults\u001b[49m\u001b[43m[\u001b[49m\u001b[38;5;124;43m\"\u001b[39;49m\u001b[38;5;124;43mcurrent\u001b[39;49m\u001b[38;5;124;43m\"\u001b[39;49m\u001b[43m]\u001b[49m[\u001b[38;5;124m\"\u001b[39m\u001b[38;5;124mtalking_about_product\u001b[39m\u001b[38;5;124m\"\u001b[39m]\u001b[38;5;241m.\u001b[39mvalue\n",
            "\u001b[0;31mKeyError\u001b[0m: 'current'"
          ]
        }
      ],
      "source": [
        "# If the event was detected\n",
        "workload.results[\"current\"][\"talking_about_product\"].value"
      ]
    },
    {
      "cell_type": "markdown",
      "metadata": {},
      "source": []
    },
    {
      "cell_type": "code",
      "execution_count": null,
      "metadata": {},
      "outputs": [
        {
          "ename": "KeyError",
          "evalue": "'doesnt_know'",
          "output_type": "error",
          "traceback": [
            "\u001b[0;31m---------------------------------------------------------------------------\u001b[0m",
            "\u001b[0;31mKeyError\u001b[0m                                  Traceback (most recent call last)",
            "Cell \u001b[0;32mIn[4], line 1\u001b[0m\n\u001b[0;32m----> 1\u001b[0m \u001b[43mworkload\u001b[49m\u001b[38;5;241;43m.\u001b[39;49m\u001b[43mresults\u001b[49m\u001b[43m[\u001b[49m\u001b[38;5;124;43m\"\u001b[39;49m\u001b[38;5;124;43mcurrent\u001b[39;49m\u001b[38;5;124;43m\"\u001b[39;49m\u001b[43m]\u001b[49m\u001b[43m[\u001b[49m\u001b[38;5;124;43m\"\u001b[39;49m\u001b[38;5;124;43mdoesnt_know\u001b[39;49m\u001b[38;5;124;43m\"\u001b[39;49m\u001b[43m]\u001b[49m\u001b[38;5;241m.\u001b[39mvalue\n",
            "\u001b[0;31mKeyError\u001b[0m: 'doesnt_know'"
          ]
        }
      ],
      "source": [
        "workload.results[\"current\"][\"doesnt_know\"].value\n"
      ]
    },
    {
      "cell_type": "code",
      "execution_count": null,
      "metadata": {},
      "outputs": [
        {
          "data": {
            "text/plain": [
              "'\\nworkload.add_job(\\n    lab.Job(\\n        job_id=\\'custom-job\\',\\n        job_function=lambda message: lab.JobResult(\\n            job_name=\"custom-job\",\\n            value=\"all good\",\\n            result_type=\"success\",\\n        )\\n    )\\n)\\n'"
            ]
          },
          "execution_count": 4,
          "metadata": {},
          "output_type": "execute_result"
        }
      ],
      "source": [
        "# Adds an additional custom job \n",
        "# WARNING: this does not work anymore\n",
        "\n",
        "from phospho.lab.job_library import prompt_to_bool\n",
        "\n",
        "workload.add_job(\n",
        "    lab.Job(\n",
        "        job_id='custom-job',\n",
        "        job_function=prompt_to_bool\n",
        "    )\n",
        ")"
      ]
    },
    {
      "cell_type": "code",
      "execution_count": null,
      "metadata": {},
      "outputs": [
        {
          "ename": "AttributeError",
          "evalue": "'EmptyConfig' object has no attribute 'model'",
          "output_type": "error",
          "traceback": [
            "\u001b[0;31m---------------------------------------------------------------------------\u001b[0m",
            "\u001b[0;31mAttributeError\u001b[0m                            Traceback (most recent call last)",
            "Cell \u001b[0;32mIn[5], line 9\u001b[0m\n\u001b[1;32m      1\u001b[0m messages \u001b[38;5;241m=\u001b[39m [\n\u001b[1;32m      2\u001b[0m     lab\u001b[38;5;241m.\u001b[39mMessage(\n\u001b[1;32m      3\u001b[0m         content\u001b[38;5;241m=\u001b[39m\u001b[38;5;124m\"\u001b[39m\u001b[38;5;124mHey there!\u001b[39m\u001b[38;5;124m\"\u001b[39m,\n\u001b[0;32m   (...)\u001b[0m\n\u001b[1;32m      7\u001b[0m     ),\n\u001b[1;32m      8\u001b[0m ]\n\u001b[0;32m----> 9\u001b[0m \u001b[43mworkload\u001b[49m\u001b[38;5;241;43m.\u001b[39;49m\u001b[43mrun\u001b[49m\u001b[43m(\u001b[49m\u001b[43mmessages\u001b[49m\u001b[38;5;241;43m=\u001b[39;49m\u001b[43mmessages\u001b[49m\u001b[43m,\u001b[49m\u001b[43m \u001b[49m\u001b[43mexecutor_type\u001b[49m\u001b[38;5;241;43m=\u001b[39;49m\u001b[38;5;124;43m\"\u001b[39;49m\u001b[38;5;124;43msequential\u001b[39;49m\u001b[38;5;124;43m\"\u001b[39;49m\u001b[43m)\u001b[49m\n",
            "File \u001b[0;32m~/Documents/phospho/code/clients/phospho/.venv/lib/python3.9/site-packages/phospho/lab/lab.py:154\u001b[0m, in \u001b[0;36mWorkload.run\u001b[0;34m(self, messages, executor_type)\u001b[0m\n\u001b[1;32m    152\u001b[0m \u001b[38;5;28;01melif\u001b[39;00m executor_type \u001b[38;5;241m==\u001b[39m \u001b[38;5;124m\"\u001b[39m\u001b[38;5;124msequential\u001b[39m\u001b[38;5;124m\"\u001b[39m:\n\u001b[1;32m    153\u001b[0m     \u001b[38;5;28;01mfor\u001b[39;00m one_message \u001b[38;5;129;01min\u001b[39;00m messages:\n\u001b[0;32m--> 154\u001b[0m         \u001b[43mjob\u001b[49m\u001b[38;5;241;43m.\u001b[39;49m\u001b[43mrun\u001b[49m\u001b[43m(\u001b[49m\u001b[43mone_message\u001b[49m\u001b[43m)\u001b[49m\n\u001b[1;32m    155\u001b[0m \u001b[38;5;28;01melse\u001b[39;00m:\n\u001b[1;32m    156\u001b[0m     \u001b[38;5;28;01mraise\u001b[39;00m \u001b[38;5;167;01mNotImplementedError\u001b[39;00m(\n\u001b[1;32m    157\u001b[0m         \u001b[38;5;124mf\u001b[39m\u001b[38;5;124m\"\u001b[39m\u001b[38;5;124mExecutor type \u001b[39m\u001b[38;5;132;01m{\u001b[39;00mexecutor_type\u001b[38;5;132;01m}\u001b[39;00m\u001b[38;5;124m is not implemented\u001b[39m\u001b[38;5;124m\"\u001b[39m\n\u001b[1;32m    158\u001b[0m     )\n",
            "File \u001b[0;32m~/Documents/phospho/code/clients/phospho/.venv/lib/python3.9/site-packages/phospho/lab/lab.py:73\u001b[0m, in \u001b[0;36mJob.run\u001b[0;34m(self, message)\u001b[0m\n\u001b[1;32m     67\u001b[0m \u001b[38;5;250m\u001b[39m\u001b[38;5;124;03m\"\"\"\u001b[39;00m\n\u001b[1;32m     68\u001b[0m \u001b[38;5;124;03mRun the job on the message.\u001b[39;00m\n\u001b[1;32m     69\u001b[0m \u001b[38;5;124;03m\"\"\"\u001b[39;00m\n\u001b[1;32m     70\u001b[0m \u001b[38;5;66;03m# TODO: Infer for each message its context (if any)\u001b[39;00m\n\u001b[1;32m     71\u001b[0m \u001b[38;5;66;03m# The context is the previous messages of the session\u001b[39;00m\n\u001b[0;32m---> 73\u001b[0m result \u001b[38;5;241m=\u001b[39m \u001b[38;5;28;43mself\u001b[39;49m\u001b[38;5;241;43m.\u001b[39;49m\u001b[43mjob_function\u001b[49m\u001b[43m(\u001b[49m\n\u001b[1;32m     74\u001b[0m \u001b[43m    \u001b[49m\u001b[43mmessage\u001b[49m\u001b[43m,\u001b[49m\n\u001b[1;32m     75\u001b[0m \u001b[43m    \u001b[49m\u001b[38;5;241;43m*\u001b[39;49m\u001b[38;5;241;43m*\u001b[39;49m\u001b[38;5;28;43mself\u001b[39;49m\u001b[38;5;241;43m.\u001b[39;49m\u001b[43mparams\u001b[49m\u001b[43m,\u001b[49m\n\u001b[1;32m     76\u001b[0m \u001b[43m    \u001b[49m\u001b[43mjob_config\u001b[49m\u001b[38;5;241;43m=\u001b[39;49m\u001b[38;5;28;43mself\u001b[39;49m\u001b[38;5;241;43m.\u001b[39;49m\u001b[43mjob_config\u001b[49m\u001b[43m,\u001b[49m\n\u001b[1;32m     77\u001b[0m \u001b[43m\u001b[49m\u001b[43m)\u001b[49m\n\u001b[1;32m     78\u001b[0m \u001b[38;5;28mself\u001b[39m\u001b[38;5;241m.\u001b[39mjob_results[message\u001b[38;5;241m.\u001b[39mid] \u001b[38;5;241m=\u001b[39m result\n\u001b[1;32m     79\u001b[0m \u001b[38;5;28;01mreturn\u001b[39;00m result\n",
            "File \u001b[0;32m~/Documents/phospho/code/clients/phospho/.venv/lib/python3.9/site-packages/phospho/lab/job_library.py:36\u001b[0m, in \u001b[0;36mprompt_to_bool\u001b[0;34m(message, prompt, message_context, format_kwargs, model, job_config)\u001b[0m\n\u001b[1;32m     28\u001b[0m     format_kwargs \u001b[38;5;241m=\u001b[39m {}\n\u001b[1;32m     30\u001b[0m formated_prompt \u001b[38;5;241m=\u001b[39m prompt\u001b[38;5;241m.\u001b[39mformat(\n\u001b[1;32m     31\u001b[0m     message_content\u001b[38;5;241m=\u001b[39mmessage\u001b[38;5;241m.\u001b[39mcontent,\n\u001b[1;32m     32\u001b[0m     message_context\u001b[38;5;241m=\u001b[39mmessage_context,\n\u001b[1;32m     33\u001b[0m     \u001b[38;5;241m*\u001b[39m\u001b[38;5;241m*\u001b[39mformat_kwargs,\n\u001b[1;32m     34\u001b[0m )\n\u001b[1;32m     35\u001b[0m response \u001b[38;5;241m=\u001b[39m openai_client\u001b[38;5;241m.\u001b[39mchat\u001b[38;5;241m.\u001b[39mcompletions\u001b[38;5;241m.\u001b[39mcreate(\n\u001b[0;32m---> 36\u001b[0m     model\u001b[38;5;241m=\u001b[39m\u001b[43mjob_config\u001b[49m\u001b[38;5;241;43m.\u001b[39;49m\u001b[43mmodel\u001b[49m,\n\u001b[1;32m     37\u001b[0m     messages\u001b[38;5;241m=\u001b[39m[\n\u001b[1;32m     38\u001b[0m         {\u001b[38;5;124m\"\u001b[39m\u001b[38;5;124mrole\u001b[39m\u001b[38;5;124m\"\u001b[39m: \u001b[38;5;124m\"\u001b[39m\u001b[38;5;124msystem\u001b[39m\u001b[38;5;124m\"\u001b[39m, \u001b[38;5;124m\"\u001b[39m\u001b[38;5;124mcontent\u001b[39m\u001b[38;5;124m\"\u001b[39m: \u001b[38;5;124m\"\u001b[39m\u001b[38;5;124mYou are a helpful assistant.\u001b[39m\u001b[38;5;124m\"\u001b[39m},\n\u001b[1;32m     39\u001b[0m         {\n\u001b[1;32m     40\u001b[0m             \u001b[38;5;124m\"\u001b[39m\u001b[38;5;124mrole\u001b[39m\u001b[38;5;124m\"\u001b[39m: \u001b[38;5;124m\"\u001b[39m\u001b[38;5;124muser\u001b[39m\u001b[38;5;124m\"\u001b[39m,\n\u001b[1;32m     41\u001b[0m             \u001b[38;5;124m\"\u001b[39m\u001b[38;5;124mcontent\u001b[39m\u001b[38;5;124m\"\u001b[39m: formated_prompt,\n\u001b[1;32m     42\u001b[0m         },\n\u001b[1;32m     43\u001b[0m     ],\n\u001b[1;32m     44\u001b[0m     max_tokens\u001b[38;5;241m=\u001b[39m\u001b[38;5;241m1\u001b[39m,\n\u001b[1;32m     45\u001b[0m     temperature\u001b[38;5;241m=\u001b[39m\u001b[38;5;241m0\u001b[39m,\n\u001b[1;32m     46\u001b[0m )\n\u001b[1;32m     48\u001b[0m \u001b[38;5;66;03m# Cast the response to a bool\u001b[39;00m\n\u001b[1;32m     49\u001b[0m \u001b[38;5;28;01mif\u001b[39;00m response\u001b[38;5;241m.\u001b[39mchoices[\u001b[38;5;241m0\u001b[39m]\u001b[38;5;241m.\u001b[39mmessage\u001b[38;5;241m.\u001b[39mcontent \u001b[38;5;129;01mis\u001b[39;00m \u001b[38;5;28;01mNone\u001b[39;00m:\n",
            "File \u001b[0;32m~/Documents/phospho/code/clients/phospho/.venv/lib/python3.9/site-packages/pydantic/main.py:767\u001b[0m, in \u001b[0;36mBaseModel.__getattr__\u001b[0;34m(self, item)\u001b[0m\n\u001b[1;32m    764\u001b[0m     \u001b[38;5;28;01mreturn\u001b[39;00m \u001b[38;5;28msuper\u001b[39m()\u001b[38;5;241m.\u001b[39m\u001b[38;5;21m__getattribute__\u001b[39m(item)  \u001b[38;5;66;03m# Raises AttributeError if appropriate\u001b[39;00m\n\u001b[1;32m    765\u001b[0m \u001b[38;5;28;01melse\u001b[39;00m:\n\u001b[1;32m    766\u001b[0m     \u001b[38;5;66;03m# this is the current error\u001b[39;00m\n\u001b[0;32m--> 767\u001b[0m     \u001b[38;5;28;01mraise\u001b[39;00m \u001b[38;5;167;01mAttributeError\u001b[39;00m(\u001b[38;5;124mf\u001b[39m\u001b[38;5;124m'\u001b[39m\u001b[38;5;132;01m{\u001b[39;00m\u001b[38;5;28mtype\u001b[39m(\u001b[38;5;28mself\u001b[39m)\u001b[38;5;241m.\u001b[39m\u001b[38;5;18m__name__\u001b[39m\u001b[38;5;132;01m!r}\u001b[39;00m\u001b[38;5;124m object has no attribute \u001b[39m\u001b[38;5;132;01m{\u001b[39;00mitem\u001b[38;5;132;01m!r}\u001b[39;00m\u001b[38;5;124m'\u001b[39m)\n",
            "\u001b[0;31mAttributeError\u001b[0m: 'EmptyConfig' object has no attribute 'model'"
          ]
        }
      ],
      "source": [
        "messages = [\n",
        "    lab.Message(\n",
        "        content=\"Hey there!\",\n",
        "    ),\n",
        "    lab.Message(\n",
        "        content=\"How are you?\",\n",
        "    ),\n",
        "]\n",
        "workload.run(messages=messages, executor_type=\"sequential\")"
      ]
    },
    {
      "cell_type": "code",
      "execution_count": null,
      "metadata": {},
      "outputs": [],
      "source": []
    }
  ],
  "metadata": {
    "kernelspec": {
      "display_name": "phospho-env",
      "language": "python",
      "name": "python3"
    },
    "language_info": {
      "codemirror_mode": {
        "name": "ipython",
        "version": 3
      },
      "file_extension": ".py",
      "mimetype": "text/x-python",
      "name": "python",
      "nbconvert_exporter": "python",
      "pygments_lexer": "ipython3",
      "version": "3.9.6"
    }
  },
  "nbformat": 4,
  "nbformat_minor": 2
}
