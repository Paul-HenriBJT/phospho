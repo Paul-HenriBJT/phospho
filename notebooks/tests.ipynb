{
 "cells": [
  {
   "cell_type": "code",
   "execution_count": 5,
   "metadata": {},
   "outputs": [
    {
     "ename": "ValidationError",
     "evalue": "1 validation error for myConfig\nmode\n  Field required [type=missing, input_value={}, input_type=dict]\n    For further information visit https://errors.pydantic.dev/2.6/v/missing",
     "output_type": "error",
     "traceback": [
      "\u001b[0;31m---------------------------------------------------------------------------\u001b[0m",
      "\u001b[0;31mValidationError\u001b[0m                           Traceback (most recent call last)",
      "Cell \u001b[0;32mIn[5], line 10\u001b[0m\n\u001b[1;32m      7\u001b[0m     prompt: \u001b[38;5;28mstr\u001b[39m \u001b[38;5;241m=\u001b[39m \u001b[38;5;124m\"\u001b[39m\u001b[38;5;124mDo you like ice cream?\u001b[39m\u001b[38;5;124m\"\u001b[39m  \u001b[38;5;66;03m# Prompt to use for the model\u001b[39;00m\n\u001b[1;32m      8\u001b[0m     mode: Literal[\u001b[38;5;124m\"\u001b[39m\u001b[38;5;124msport\u001b[39m\u001b[38;5;124m\"\u001b[39m, \u001b[38;5;124m\"\u001b[39m\u001b[38;5;124mconfort\u001b[39m\u001b[38;5;124m\"\u001b[39m]\n\u001b[0;32m---> 10\u001b[0m myconfig \u001b[38;5;241m=\u001b[39m \u001b[43mmyConfig\u001b[49m\u001b[43m(\u001b[49m\u001b[43m)\u001b[49m\n",
      "File \u001b[0;32m~/Documents/phospho/code/clients/phospho/.venv/lib/python3.9/site-packages/pydantic/main.py:171\u001b[0m, in \u001b[0;36mBaseModel.__init__\u001b[0;34m(self, **data)\u001b[0m\n\u001b[1;32m    169\u001b[0m \u001b[38;5;66;03m# `__tracebackhide__` tells pytest and some other tools to omit this function from tracebacks\u001b[39;00m\n\u001b[1;32m    170\u001b[0m __tracebackhide__ \u001b[38;5;241m=\u001b[39m \u001b[38;5;28;01mTrue\u001b[39;00m\n\u001b[0;32m--> 171\u001b[0m \u001b[38;5;28;43mself\u001b[39;49m\u001b[38;5;241;43m.\u001b[39;49m\u001b[43m__pydantic_validator__\u001b[49m\u001b[38;5;241;43m.\u001b[39;49m\u001b[43mvalidate_python\u001b[49m\u001b[43m(\u001b[49m\u001b[43mdata\u001b[49m\u001b[43m,\u001b[49m\u001b[43m \u001b[49m\u001b[43mself_instance\u001b[49m\u001b[38;5;241;43m=\u001b[39;49m\u001b[38;5;28;43mself\u001b[39;49m\u001b[43m)\u001b[49m\n",
      "\u001b[0;31mValidationError\u001b[0m: 1 validation error for myConfig\nmode\n  Field required [type=missing, input_value={}, input_type=dict]\n    For further information visit https://errors.pydantic.dev/2.6/v/missing"
     ]
    }
   ],
   "source": [
    "from phospho.lab.models import JobConfig\n",
    "from typing import Literal\n",
    "\n",
    "# Create my config\n",
    "class myConfig(JobConfig):\n",
    "    model: Literal[\"gpt-4\", \"gpt-3.5-turbo\"] = \"gpt-4\"  # OpenAI model name\n",
    "    prompt: str = \"Do you like ice cream?\"  # Prompt to use for the model\n",
    "    mode: Literal[\"sport\", \"confort\"] = \"sport\"\n",
    "\n",
    "myconfig = myConfig()\n",
    "\n"
   ]
  },
  {
   "cell_type": "code",
   "execution_count": 2,
   "metadata": {},
   "outputs": [
    {
     "data": {
      "text/plain": [
       "myConfig(model='gpt-4')"
      ]
     },
     "execution_count": 2,
     "metadata": {},
     "output_type": "execute_result"
    }
   ],
   "source": [
    "myconfig"
   ]
  },
  {
   "cell_type": "code",
   "execution_count": 4,
   "metadata": {},
   "outputs": [
    {
     "name": "stdout",
     "output_type": "stream",
     "text": [
      "{'model': ('gpt-4', 'gpt-3.5-turbo')}\n"
     ]
    }
   ],
   "source": [
    "from typing import get_args\n",
    "\n",
    "# Assuming myConfig is already defined as shown in your context\n",
    "\n",
    "# Function to get all possible values for Literal fields\n",
    "def get_literal_values(model_class):\n",
    "    literal_fields = {}\n",
    "    for field_name, field_type in model_class.__annotations__.items():\n",
    "        if hasattr(field_type, '__origin__') and field_type.__origin__ is Literal:\n",
    "            literal_fields[field_name] = get_args(field_type)\n",
    "    return literal_fields\n",
    "\n",
    "# Get all possible values for the myConfig model\n",
    "all_possible_values = get_literal_values(myConfig)\n",
    "print(all_possible_values)"
   ]
  },
  {
   "cell_type": "code",
   "execution_count": null,
   "metadata": {},
   "outputs": [],
   "source": [
    "import itertools\n",
    "\n",
    "# Get all possible values for the myConfig model\n",
    "literal_values = get_literal_values(myConfig)\n",
    "\n",
    "# Generate all possible combinations of Literal values\n",
    "combinations = list(itertools.product(*literal_values.values()))\n",
    "\n",
    "# Create a list of myConfig objects with all possible combinations\n",
    "config_objects = [myConfig(**dict(zip(literal_values.keys(), combo))) for combo in combinations]\n",
    "\n",
    "# Print the list of myConfig objects\n",
    "for config in config_objects:\n",
    "    print(config)"
   ]
  }
 ],
 "metadata": {
  "kernelspec": {
   "display_name": ".venv",
   "language": "python",
   "name": "python3"
  },
  "language_info": {
   "codemirror_mode": {
    "name": "ipython",
    "version": 3
   },
   "file_extension": ".py",
   "mimetype": "text/x-python",
   "name": "python",
   "nbconvert_exporter": "python",
   "pygments_lexer": "ipython3",
   "version": "3.9.6"
  }
 },
 "nbformat": 4,
 "nbformat_minor": 2
}
