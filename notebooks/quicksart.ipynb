{
 "cells": [
  {
   "cell_type": "code",
   "execution_count": 1,
   "metadata": {},
   "outputs": [
    {
     "name": "stdout",
     "output_type": "stream",
     "text": [
      "Requirement already satisfied: python-dotenv in /Users/plb/Documents/phospho/code/clients/phospho/.venv/lib/python3.9/site-packages (1.0.1)\n"
     ]
    },
    {
     "data": {
      "text/plain": [
       "True"
      ]
     },
     "execution_count": 1,
     "metadata": {},
     "output_type": "execute_result"
    }
   ],
   "source": [
    "!pip install python-dotenv\n",
    "\n",
    "from dotenv import load_dotenv\n",
    "\n",
    "# Load environment variables\n",
    "load_dotenv()"
   ]
  },
  {
   "cell_type": "code",
   "execution_count": 2,
   "metadata": {},
   "outputs": [
    {
     "name": "stderr",
     "output_type": "stream",
     "text": [
      "/Users/plb/Documents/phospho/code/clients/phospho/.venv/lib/python3.9/site-packages/urllib3/__init__.py:35: NotOpenSSLWarning: urllib3 v2 only supports OpenSSL 1.1.1+, currently the 'ssl' module is compiled with 'LibreSSL 2.8.3'. See: https://github.com/urllib3/urllib3/issues/3020\n",
      "  warnings.warn(\n"
     ]
    }
   ],
   "source": [
    "from phospho.lab import Workload, Job\n",
    "from phospho.lab import job_library\n",
    "from phospho.lab.models import JobConfig\n",
    "from typing import Literal\n",
    "\n",
    "myWorkload = Workload()\n",
    "\n",
    "# Create my config\n",
    "class myConfig(JobConfig):\n",
    "    model: Literal[\"gpt-4\", \"gpt-3.5-turbo\"] = \"gpt-4\"  # OpenAI model name\n",
    "\n",
    "# Add a job to it\n",
    "myWorkload.add_job(Job(\n",
    "    job_id=\"event-detection\",\n",
    "    job_function=job_library.prompt_to_bool,\n",
    "    job_config=myConfig(),\n",
    "    params={\n",
    "        \"prompt\": \"Do you like ice cream? {message_content}\",\n",
    "    }\n",
    "))\n"
   ]
  },
  {
   "cell_type": "code",
   "execution_count": 3,
   "metadata": {},
   "outputs": [
    {
     "data": {
      "text/plain": [
       "{'1af7f3db25a9430aa12efa4620e599d1': {'event-detection': JobResult(created_at=1708992137, job_id='prompt_to_bool', result_type=<ResultType.bool: 'bool'>, value=False, logs=['Do you like ice cream? Hey there!', 'As'])},\n",
       " 'd1715f0702fa4dedb393a1d3d52db20b': {'event-detection': JobResult(created_at=1708992138, job_id='prompt_to_bool', result_type=<ResultType.bool: 'bool'>, value=False, logs=['Do you like ice cream? How are you?', 'As'])}}"
      ]
     },
     "execution_count": 3,
     "metadata": {},
     "output_type": "execute_result"
    }
   ],
   "source": [
    "from phospho import lab\n",
    "messages = [\n",
    "    lab.Message(\n",
    "        content=\"Hey there!\",\n",
    "    ),\n",
    "    lab.Message(\n",
    "        content=\"How are you?\",\n",
    "    ),\n",
    "]\n",
    "\n",
    "myWorkload.run(messages=messages, executor_type=\"sequential\")"
   ]
  },
  {
   "cell_type": "code",
   "execution_count": 4,
   "metadata": {},
   "outputs": [],
   "source": [
    "a_job = Job(\n",
    "    job_id=\"event-detection\",\n",
    "    job_function=job_library.prompt_to_bool,\n",
    "    job_config=myConfig(),\n",
    "    params={\n",
    "        \"prompt\": \"Do you like ice cream? {message_content}\",\n",
    "    }\n",
    ")"
   ]
  },
  {
   "cell_type": "code",
   "execution_count": 5,
   "metadata": {},
   "outputs": [
    {
     "data": {
      "text/plain": [
       "myConfig(model='gpt-4')"
      ]
     },
     "execution_count": 5,
     "metadata": {},
     "output_type": "execute_result"
    }
   ],
   "source": [
    "a_job.job_config"
   ]
  },
  {
   "cell_type": "code",
   "execution_count": 6,
   "metadata": {},
   "outputs": [
    {
     "data": {
      "text/plain": [
       "[myConfig(model='gpt-3.5-turbo')]"
      ]
     },
     "execution_count": 6,
     "metadata": {},
     "output_type": "execute_result"
    }
   ],
   "source": [
    "a_job.job_configurations"
   ]
  },
  {
   "cell_type": "code",
   "execution_count": null,
   "metadata": {},
   "outputs": [],
   "source": []
  }
 ],
 "metadata": {
  "kernelspec": {
   "display_name": ".venv",
   "language": "python",
   "name": "python3"
  },
  "language_info": {
   "codemirror_mode": {
    "name": "ipython",
    "version": 3
   },
   "file_extension": ".py",
   "mimetype": "text/x-python",
   "name": "python",
   "nbconvert_exporter": "python",
   "pygments_lexer": "ipython3",
   "version": "3.9.6"
  }
 },
 "nbformat": 4,
 "nbformat_minor": 2
}
