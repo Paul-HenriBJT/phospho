{
 "cells": [
  {
   "cell_type": "code",
   "execution_count": 2,
   "metadata": {},
   "outputs": [
    {
     "data": {
      "text/plain": [
       "True"
      ]
     },
     "execution_count": 2,
     "metadata": {},
     "output_type": "execute_result"
    }
   ],
   "source": [
    "from dotenv import load_dotenv\n",
    "\n",
    "# Load environment variables\n",
    "load_dotenv()"
   ]
  },
  {
   "cell_type": "code",
   "execution_count": 3,
   "metadata": {},
   "outputs": [
    {
     "data": {
      "text/plain": [
       "Workload(jobs=[\n",
       "  Job(\n",
       "  job_id=event_1,\n",
       "  job_name=prompt_to_bool,\n",
       "  params={\n",
       "    prompt: You are classifying an interaction between an end user and an assistant. The assistant is a chatbot that can perform tasks for the end user and answer his questions. The assistant might make some mistakes or not be useful. The event you are looking for is : {event_description}. The name of the event is : {event_name}\n",
       "Here is the transcript of the interaction: [START INTERACTION] {message_content} [END INTERACTION]\n",
       "You have to say if the event is present in the transcript or not. Respond with only one word, True or False.\n",
       "    format_kwargs: {'event_name': 'assistant_not_use', 'event_description': 'The assistant is not useful to the end user'}\n",
       "  }\n",
       ")\n",
       "  Job(\n",
       "  job_id=eval,\n",
       "  job_name=prompt_to_literal,\n",
       "  params={\n",
       "    output_literal: ['success', 'failure']\n",
       "    prompt: You are scoring a transcript of a conversation between an end user and an assistant. The assistant is a chatbot that can perform tasks for the end user and answer his questions. The assistant might make some mistakes or not be useful. Here's the context of the conversation: [BEGIN CONTEXT] {message_context} [END CONTEXT]\n",
       "Here is the transcript: [BEGIN TRANSCRIPT] {message_content} [END TRANSCRIPT]\n",
       "Classify the transcript into one of the following categories: - success : the assistant was helpful and performed the tasks correctly - failure : the assistant was not helpful and did not perform the tasks correctly Respond with only one word, the name of the class.\n",
       "  }\n",
       ")\n",
       "])"
      ]
     },
     "execution_count": 3,
     "metadata": {},
     "output_type": "execute_result"
    }
   ],
   "source": [
    "from phospho import lab\n",
    "\n",
    "\n",
    "# Create a workload\n",
    "workload = lab.Workload.from_file('phospho-config.yaml')\n",
    "workload"
   ]
  },
  {
   "cell_type": "code",
   "execution_count": 6,
   "metadata": {},
   "outputs": [
    {
     "data": {
      "text/plain": [
       "{'d567986484b84bd58583b0ff83b91ec9': {'event_1': JobResult(created_at=1708975765, job_name='prompt_to_bool', result_type='bool', value=False, logs=['You are classifying an interaction between an end user and an assistant. The assistant is a chatbot that can perform tasks for the end user and answer his questions. The assistant might make some mistakes or not be useful. The event you are looking for is : The assistant is not useful to the end user. The name of the event is : assistant_not_use\\nHere is the transcript of the interaction: [START INTERACTION] Hey there! [END INTERACTION]\\nYou have to say if the event is present in the transcript or not. Respond with only one word, True or False.', 'False']),\n",
       "  'eval': JobResult(created_at=1708975766, job_name='prompt_to_literal', result_type='literal', value='failure', logs=[])},\n",
       " '6c1473efacf7473cbd32f4a61b5dcbb3': {'event_1': JobResult(created_at=1708975765, job_name='prompt_to_bool', result_type='bool', value=False, logs=['You are classifying an interaction between an end user and an assistant. The assistant is a chatbot that can perform tasks for the end user and answer his questions. The assistant might make some mistakes or not be useful. The event you are looking for is : The assistant is not useful to the end user. The name of the event is : assistant_not_use\\nHere is the transcript of the interaction: [START INTERACTION] How are you? [END INTERACTION]\\nYou have to say if the event is present in the transcript or not. Respond with only one word, True or False.', 'False']),\n",
       "  'eval': JobResult(created_at=1708975766, job_name='prompt_to_literal', result_type='literal', value='failure', logs=[])}}"
      ]
     },
     "execution_count": 6,
     "metadata": {},
     "output_type": "execute_result"
    }
   ],
   "source": [
    "messages = [\n",
    "    lab.Message(\n",
    "        content=\"Hey there!\",\n",
    "    ),\n",
    "    lab.Message(\n",
    "        content=\"How are you?\",\n",
    "    ),\n",
    "]\n",
    "workload.run(messages=messages, executor_type=\"parallel\")"
   ]
  }
 ],
 "metadata": {
  "kernelspec": {
   "display_name": "phospho-env",
   "language": "python",
   "name": "python3"
  },
  "language_info": {
   "codemirror_mode": {
    "name": "ipython",
    "version": 3
   },
   "file_extension": ".py",
   "mimetype": "text/x-python",
   "name": "python",
   "nbconvert_exporter": "python",
   "pygments_lexer": "ipython3",
   "version": "3.11.5"
  }
 },
 "nbformat": 4,
 "nbformat_minor": 2
}
