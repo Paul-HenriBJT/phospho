{
 "cells": [
  {
   "cell_type": "code",
   "execution_count": 3,
   "metadata": {},
   "outputs": [
    {
     "data": {
      "text/plain": [
       "True"
      ]
     },
     "execution_count": 3,
     "metadata": {},
     "output_type": "execute_result"
    }
   ],
   "source": [
    "from dotenv import load_dotenv\n",
    "\n",
    "# Load environment variables\n",
    "load_dotenv()"
   ]
  },
  {
   "cell_type": "code",
   "execution_count": 4,
   "metadata": {},
   "outputs": [
    {
     "data": {
      "text/plain": [
       "Workload(jobs=[\n",
       "  Job(\n",
       "  job_id=event_1,\n",
       "  job_name=prompt_to_bool,\n",
       "  params={\n",
       "    prompt: You are classifying an interaction between an end user and an assistant. The assistant is a chatbot that can perform tasks for the end user and answer his questions. The assistant might make some mistakes or not be useful. The event you are looking for is : {event_description}. The name of the event is : {event_name}\n",
       "Here is the transcript of the interaction: [START INTERACTION] {message_content} [END INTERACTION]\n",
       "You have to say if the event is present in the transcript or not. Respond with only one word, True or False.\n",
       "    format_kwargs: {'event_name': 'assistant_not_use', 'event_description': 'The assistant is not useful to the end user'}\n",
       "  }\n",
       ")\n",
       "  Job(\n",
       "  job_id=eval,\n",
       "  job_name=prompt_to_literal,\n",
       "  params={\n",
       "    output_literal: ['success', 'failure']\n",
       "    prompt: You are scoring a transcript of a conversation between an end user and an assistant. The assistant is a chatbot that can perform tasks for the end user and answer his questions. The assistant might make some mistakes or not be useful. Here's the context of the conversation: [BEGIN CONTEXT] {message_context} [END CONTEXT]\n",
       "Here is the transcript: [BEGIN TRANSCRIPT] {message_content} [END TRANSCRIPT]\n",
       "Classify the transcript into one of the following categories: - success : the assistant was helpful and performed the tasks correctly - failure : the assistant was not helpful and did not perform the tasks correctly Respond with only one word, the name of the class.\n",
       "  }\n",
       ")\n",
       "])"
      ]
     },
     "execution_count": 4,
     "metadata": {},
     "output_type": "execute_result"
    }
   ],
   "source": [
    "from phospho import lab\n",
    "\n",
    "\n",
    "# Create a workload\n",
    "workload = lab.Workload.from_file('phospho-config.yaml')\n",
    "workload"
   ]
  },
  {
   "cell_type": "code",
   "execution_count": 13,
   "metadata": {},
   "outputs": [],
   "source": [
    "# Adds an additional custom job \n",
    "workload.add_job(\n",
    "    lab.Job(\n",
    "        job_id='custom-job',\n",
    "        job_function=lambda message: lab.JobResult(\n",
    "            job_name=\"custom-job\",\n",
    "            value=\"all good\",\n",
    "            result_type=\"success\",\n",
    "        )\n",
    "    )\n",
    ")"
   ]
  },
  {
   "cell_type": "code",
   "execution_count": 14,
   "metadata": {},
   "outputs": [
    {
     "name": "stdout",
     "output_type": "stream",
     "text": [
      "Hello id='50b640a39f044858a818fcb097462942' created_at=1708976089 role='user' content='Hey there!' session_id=None user_id=None\n",
      "Hello id='a8a4646326634216b3288c54e0908818' created_at=1708976089 role='user' content='How are you?' session_id=None user_id=None\n"
     ]
    },
    {
     "ename": "ValidationError",
     "evalue": "2 validation errors for JobResult\njob_name\n  Field required [type=missing, input_value={'value': 'all good'}, input_type=dict]\n    For further information visit https://errors.pydantic.dev/2.5/v/missing\nresult_type\n  Field required [type=missing, input_value={'value': 'all good'}, input_type=dict]\n    For further information visit https://errors.pydantic.dev/2.5/v/missing",
     "output_type": "error",
     "traceback": [
      "\u001b[0;31m---------------------------------------------------------------------------\u001b[0m",
      "\u001b[0;31mValidationError\u001b[0m                           Traceback (most recent call last)",
      "Cell \u001b[0;32mIn[14], line 9\u001b[0m\n\u001b[1;32m      1\u001b[0m messages \u001b[38;5;241m=\u001b[39m [\n\u001b[1;32m      2\u001b[0m     lab\u001b[38;5;241m.\u001b[39mMessage(\n\u001b[1;32m      3\u001b[0m         content\u001b[38;5;241m=\u001b[39m\u001b[38;5;124m\"\u001b[39m\u001b[38;5;124mHey there!\u001b[39m\u001b[38;5;124m\"\u001b[39m,\n\u001b[0;32m   (...)\u001b[0m\n\u001b[1;32m      7\u001b[0m     ),\n\u001b[1;32m      8\u001b[0m ]\n\u001b[0;32m----> 9\u001b[0m \u001b[43mworkload\u001b[49m\u001b[38;5;241;43m.\u001b[39;49m\u001b[43mrun\u001b[49m\u001b[43m(\u001b[49m\u001b[43mmessages\u001b[49m\u001b[38;5;241;43m=\u001b[39;49m\u001b[43mmessages\u001b[49m\u001b[43m,\u001b[49m\u001b[43m \u001b[49m\u001b[43mexecutor_type\u001b[49m\u001b[38;5;241;43m=\u001b[39;49m\u001b[38;5;124;43m\"\u001b[39;49m\u001b[38;5;124;43msequential\u001b[39;49m\u001b[38;5;124;43m\"\u001b[39;49m\u001b[43m)\u001b[49m\n",
      "File \u001b[0;32m~/phospho/phospho/phospho/lab/lab.py:137\u001b[0m, in \u001b[0;36mWorkload.run\u001b[0;34m(self, messages, executor_type)\u001b[0m\n\u001b[1;32m    135\u001b[0m \u001b[38;5;28;01melif\u001b[39;00m executor_type \u001b[38;5;241m==\u001b[39m \u001b[38;5;124m\"\u001b[39m\u001b[38;5;124msequential\u001b[39m\u001b[38;5;124m\"\u001b[39m:\n\u001b[1;32m    136\u001b[0m     \u001b[38;5;28;01mfor\u001b[39;00m one_message \u001b[38;5;129;01min\u001b[39;00m messages:\n\u001b[0;32m--> 137\u001b[0m         \u001b[43mjob\u001b[49m\u001b[38;5;241;43m.\u001b[39;49m\u001b[43mrun\u001b[49m\u001b[43m(\u001b[49m\u001b[43mone_message\u001b[49m\u001b[43m)\u001b[49m\n\u001b[1;32m    138\u001b[0m \u001b[38;5;28;01melse\u001b[39;00m:\n\u001b[1;32m    139\u001b[0m     \u001b[38;5;28;01mraise\u001b[39;00m \u001b[38;5;167;01mNotImplementedError\u001b[39;00m(\n\u001b[1;32m    140\u001b[0m         \u001b[38;5;124mf\u001b[39m\u001b[38;5;124m\"\u001b[39m\u001b[38;5;124mExecutor type \u001b[39m\u001b[38;5;132;01m{\u001b[39;00mexecutor_type\u001b[38;5;132;01m}\u001b[39;00m\u001b[38;5;124m is not implemented\u001b[39m\u001b[38;5;124m\"\u001b[39m\n\u001b[1;32m    141\u001b[0m     )\n",
      "File \u001b[0;32m~/phospho/phospho/phospho/lab/lab.py:60\u001b[0m, in \u001b[0;36mJob.run\u001b[0;34m(self, message)\u001b[0m\n\u001b[1;32m     54\u001b[0m \u001b[38;5;250m\u001b[39m\u001b[38;5;124;03m\"\"\"\u001b[39;00m\n\u001b[1;32m     55\u001b[0m \u001b[38;5;124;03mRun the job on the message.\u001b[39;00m\n\u001b[1;32m     56\u001b[0m \u001b[38;5;124;03m\"\"\"\u001b[39;00m\n\u001b[1;32m     57\u001b[0m \u001b[38;5;66;03m# TODO: Infer for each message its context (if any)\u001b[39;00m\n\u001b[1;32m     58\u001b[0m \u001b[38;5;66;03m# The context is the previous messages of the session\u001b[39;00m\n\u001b[0;32m---> 60\u001b[0m result \u001b[38;5;241m=\u001b[39m \u001b[38;5;28;43mself\u001b[39;49m\u001b[38;5;241;43m.\u001b[39;49m\u001b[43mjob_function\u001b[49m\u001b[43m(\u001b[49m\u001b[43mmessage\u001b[49m\u001b[43m,\u001b[49m\u001b[43m \u001b[49m\u001b[38;5;241;43m*\u001b[39;49m\u001b[38;5;241;43m*\u001b[39;49m\u001b[38;5;28;43mself\u001b[39;49m\u001b[38;5;241;43m.\u001b[39;49m\u001b[43mparams\u001b[49m\u001b[43m)\u001b[49m\n\u001b[1;32m     61\u001b[0m \u001b[38;5;28mself\u001b[39m\u001b[38;5;241m.\u001b[39mjob_results[message\u001b[38;5;241m.\u001b[39mid] \u001b[38;5;241m=\u001b[39m result\n\u001b[1;32m     62\u001b[0m \u001b[38;5;28;01mreturn\u001b[39;00m result\n",
      "Cell \u001b[0;32mIn[11], line 5\u001b[0m, in \u001b[0;36m<lambda>\u001b[0;34m(message)\u001b[0m\n\u001b[1;32m      1\u001b[0m \u001b[38;5;66;03m# Adds an additional custom job \u001b[39;00m\n\u001b[1;32m      2\u001b[0m workload\u001b[38;5;241m.\u001b[39madd_job(\n\u001b[1;32m      3\u001b[0m     lab\u001b[38;5;241m.\u001b[39mJob(\n\u001b[1;32m      4\u001b[0m         job_id\u001b[38;5;241m=\u001b[39m\u001b[38;5;124m'\u001b[39m\u001b[38;5;124mcustom-job\u001b[39m\u001b[38;5;124m'\u001b[39m,\n\u001b[0;32m----> 5\u001b[0m         job_function\u001b[38;5;241m=\u001b[39m\u001b[38;5;28;01mlambda\u001b[39;00m message: \u001b[43mlab\u001b[49m\u001b[38;5;241;43m.\u001b[39;49m\u001b[43mJobResult\u001b[49m\u001b[43m(\u001b[49m\n\u001b[1;32m      6\u001b[0m \u001b[43m            \u001b[49m\u001b[43mvalue\u001b[49m\u001b[38;5;241;43m=\u001b[39;49m\u001b[38;5;124;43m\"\u001b[39;49m\u001b[38;5;124;43mall good\u001b[39;49m\u001b[38;5;124;43m\"\u001b[39;49m\n\u001b[1;32m      7\u001b[0m \u001b[43m        \u001b[49m\u001b[43m)\u001b[49m\n\u001b[1;32m      8\u001b[0m     )\n\u001b[1;32m      9\u001b[0m )\n",
      "File \u001b[0;32m~/anaconda3/envs/phospho-env/lib/python3.11/site-packages/pydantic/main.py:164\u001b[0m, in \u001b[0;36mBaseModel.__init__\u001b[0;34m(__pydantic_self__, **data)\u001b[0m\n\u001b[1;32m    162\u001b[0m \u001b[38;5;66;03m# `__tracebackhide__` tells pytest and some other tools to omit this function from tracebacks\u001b[39;00m\n\u001b[1;32m    163\u001b[0m __tracebackhide__ \u001b[38;5;241m=\u001b[39m \u001b[38;5;28;01mTrue\u001b[39;00m\n\u001b[0;32m--> 164\u001b[0m \u001b[43m__pydantic_self__\u001b[49m\u001b[38;5;241;43m.\u001b[39;49m\u001b[43m__pydantic_validator__\u001b[49m\u001b[38;5;241;43m.\u001b[39;49m\u001b[43mvalidate_python\u001b[49m\u001b[43m(\u001b[49m\u001b[43mdata\u001b[49m\u001b[43m,\u001b[49m\u001b[43m \u001b[49m\u001b[43mself_instance\u001b[49m\u001b[38;5;241;43m=\u001b[39;49m\u001b[43m__pydantic_self__\u001b[49m\u001b[43m)\u001b[49m\n",
      "\u001b[0;31mValidationError\u001b[0m: 2 validation errors for JobResult\njob_name\n  Field required [type=missing, input_value={'value': 'all good'}, input_type=dict]\n    For further information visit https://errors.pydantic.dev/2.5/v/missing\nresult_type\n  Field required [type=missing, input_value={'value': 'all good'}, input_type=dict]\n    For further information visit https://errors.pydantic.dev/2.5/v/missing"
     ]
    }
   ],
   "source": [
    "messages = [\n",
    "    lab.Message(\n",
    "        content=\"Hey there!\",\n",
    "    ),\n",
    "    lab.Message(\n",
    "        content=\"How are you?\",\n",
    "    ),\n",
    "]\n",
    "workload.run(messages=messages, executor_type=\"sequential\")"
   ]
  },
  {
   "cell_type": "code",
   "execution_count": null,
   "metadata": {},
   "outputs": [],
   "source": []
  }
 ],
 "metadata": {
  "kernelspec": {
   "display_name": "phospho-env",
   "language": "python",
   "name": "python3"
  },
  "language_info": {
   "codemirror_mode": {
    "name": "ipython",
    "version": 3
   },
   "file_extension": ".py",
   "mimetype": "text/x-python",
   "name": "python",
   "nbconvert_exporter": "python",
   "pygments_lexer": "ipython3",
   "version": "3.11.5"
  }
 },
 "nbformat": 4,
 "nbformat_minor": 2
}
