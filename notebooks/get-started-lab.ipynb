{
 "cells": [
  {
   "cell_type": "code",
   "execution_count": 1,
   "metadata": {},
   "outputs": [
    {
     "data": {
      "text/plain": [
       "True"
      ]
     },
     "execution_count": 1,
     "metadata": {},
     "output_type": "execute_result"
    }
   ],
   "source": [
    "from dotenv import load_dotenv\n",
    "\n",
    "# Load environment variables\n",
    "load_dotenv()"
   ]
  },
  {
   "cell_type": "code",
   "execution_count": 2,
   "metadata": {},
   "outputs": [],
   "source": [
    "from phospho import lab\n",
    "\n",
    "\n",
    "# Create a workload\n",
    "workload = lab.Workload()\n",
    "workload.add_job(\n",
    "    lab.Job(\n",
    "        job_name=\"event_detection\",\n",
    "        params={\n",
    "            \"event_name\": \"User talks about a product\",\n",
    "            \"event_description\": \"User mentions a product in a message\",\n",
    "        }\n",
    "    )\n",
    ")\n",
    "workload.add_job(\n",
    "    lab.Job(\n",
    "        job_name=\"event_detection\",\n",
    "        params={\n",
    "            \"event_name\": \"Assistant doesn't know\",\n",
    "            \"event_description\": \"The assistant says that it doesn't know or can't help the user\",\n",
    "        }\n",
    "    )\n",
    ")"
   ]
  },
  {
   "cell_type": "code",
   "execution_count": 3,
   "metadata": {},
   "outputs": [
    {
     "data": {
      "text/plain": [
       "{'b2ae98578aaa437aad99540d308fa99b': {'event_detection': JobResult(created_at=1708990074, job_id='event_detection', result_type=<ResultType.bool: 'bool'>, value=True, logs=[\"\\nYou are classifying an interaction between an end user and an assistant. The assistant is a chatbot that can perform tasks for the end user and answer his questions. \\nThe assistant might make some mistakes or not be useful.\\nThe event you are looking for is: The assistant says that it doesn't know or can't help the user\\nThe name of the event is: Assistant doesn't know\\n\\nHere is the transcript of the interaction:\\n[START INTERACTION]\\nNone: How to buy the Michelin tires on the website?\\nNone: I don't know what you are talking about.\\n[END INTERACTION]\\n\\nYou have to say if the event is present in the transcript or not. Respond with only one word, True or False.\\n    \", 'True'], metadata={'api_call_time': 0.8586130142211914, 'evaluation_source': 'phospho-4'})}}"
      ]
     },
     "execution_count": 3,
     "metadata": {},
     "output_type": "execute_result"
    }
   ],
   "source": [
    "messages = [\n",
    "    lab.Message(\n",
    "        content=\"I don't know what you are talking about.\",\n",
    "        previous_messages=[\n",
    "            lab.Message(\n",
    "                content=\"How to buy the Michelin tires on the website?\",\n",
    "            ),\n",
    "        ]\n",
    "    ),\n",
    "]\n",
    "workload.run(messages=messages, executor_type=\"sequential\")"
   ]
  },
  {
   "cell_type": "code",
   "execution_count": 21,
   "metadata": {},
   "outputs": [],
   "source": [
    "# Adds an additional custom job \n",
    "workload.add_job(\n",
    "    lab.Job(\n",
    "        job_id='custom-job',\n",
    "        job_function=lambda message: lab.JobResult(\n",
    "            job_name=\"custom-job\",\n",
    "            value=\"all good\",\n",
    "            result_type=\"success\",\n",
    "        )\n",
    "    )\n",
    ")"
   ]
  },
  {
   "cell_type": "code",
   "execution_count": 17,
   "metadata": {},
   "outputs": [
    {
     "data": {
      "text/plain": [
       "{'116cd67a14a443fab66541ca5dd0fc93': {'event_1': JobResult(created_at=1708976115, job_name='prompt_to_bool', result_type='bool', value=False, logs=['You are classifying an interaction between an end user and an assistant. The assistant is a chatbot that can perform tasks for the end user and answer his questions. The assistant might make some mistakes or not be useful. The event you are looking for is : The assistant is not useful to the end user. The name of the event is : assistant_not_use\\nHere is the transcript of the interaction: [START INTERACTION] Hey there! [END INTERACTION]\\nYou have to say if the event is present in the transcript or not. Respond with only one word, True or False.', 'False']),\n",
       "  'eval': JobResult(created_at=1708976116, job_name='prompt_to_literal', result_type='literal', value='failure', logs=[]),\n",
       "  'custom-job': JobResult(created_at=1708976117, job_name='custom-job', result_type='success', value='all good', logs=[])},\n",
       " 'f8589b4b3fa24b14925539adcff09773': {'event_1': JobResult(created_at=1708976115, job_name='prompt_to_bool', result_type='bool', value=False, logs=['You are classifying an interaction between an end user and an assistant. The assistant is a chatbot that can perform tasks for the end user and answer his questions. The assistant might make some mistakes or not be useful. The event you are looking for is : The assistant is not useful to the end user. The name of the event is : assistant_not_use\\nHere is the transcript of the interaction: [START INTERACTION] How are you? [END INTERACTION]\\nYou have to say if the event is present in the transcript or not. Respond with only one word, True or False.', 'False']),\n",
       "  'eval': JobResult(created_at=1708976117, job_name='prompt_to_literal', result_type='literal', value='failure', logs=[]),\n",
       "  'custom-job': JobResult(created_at=1708976117, job_name='custom-job', result_type='success', value='all good', logs=[])}}"
      ]
     },
     "execution_count": 17,
     "metadata": {},
     "output_type": "execute_result"
    }
   ],
   "source": [
    "messages = [\n",
    "    lab.Message(\n",
    "        content=\"Hey there!\",\n",
    "    ),\n",
    "    lab.Message(\n",
    "        content=\"How are you?\",\n",
    "    ),\n",
    "]\n",
    "workload.run(messages=messages, executor_type=\"sequential\")"
   ]
  },
  {
   "cell_type": "code",
   "execution_count": null,
   "metadata": {},
   "outputs": [],
   "source": []
  }
 ],
 "metadata": {
  "kernelspec": {
   "display_name": "phospho-env",
   "language": "python",
   "name": "python3"
  },
  "language_info": {
   "codemirror_mode": {
    "name": "ipython",
    "version": 3
   },
   "file_extension": ".py",
   "mimetype": "text/x-python",
   "name": "python",
   "nbconvert_exporter": "python",
   "pygments_lexer": "ipython3",
   "version": "3.11.5"
  }
 },
 "nbformat": 4,
 "nbformat_minor": 2
}
