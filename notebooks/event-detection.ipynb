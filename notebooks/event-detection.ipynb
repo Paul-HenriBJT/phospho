{
 "cells": [
  {
   "cell_type": "markdown",
   "metadata": {},
   "source": [
    "# Detecting events with phospho"
   ]
  },
  {
   "cell_type": "code",
   "execution_count": 1,
   "metadata": {},
   "outputs": [
    {
     "name": "stdout",
     "output_type": "stream",
     "text": [
      "Requirement already satisfied: python-dotenv in /Users/plb/Documents/phospho/code/clients/phospho/.venv/lib/python3.9/site-packages (1.0.1)\n"
     ]
    },
    {
     "data": {
      "text/plain": [
       "True"
      ]
     },
     "execution_count": 1,
     "metadata": {},
     "output_type": "execute_result"
    }
   ],
   "source": [
    "!pip install python-dotenv\n",
    "\n",
    "from dotenv import load_dotenv\n",
    "\n",
    "# Load environment variables\n",
    "load_dotenv()"
   ]
  },
  {
   "cell_type": "code",
   "execution_count": 2,
   "metadata": {},
   "outputs": [
    {
     "name": "stderr",
     "output_type": "stream",
     "text": [
      "/Users/plb/Documents/phospho/code/clients/phospho/.venv/lib/python3.9/site-packages/urllib3/__init__.py:35: NotOpenSSLWarning: urllib3 v2 only supports OpenSSL 1.1.1+, currently the 'ssl' module is compiled with 'LibreSSL 2.8.3'. See: https://github.com/urllib3/urllib3/issues/3020\n",
      "  warnings.warn(\n"
     ]
    }
   ],
   "source": [
    "from phospho import lab\n",
    "\n",
    "class EventConfig(lab.JobConfig):\n",
    "    event_name: str\n",
    "    event_description: str\n",
    "\n",
    "# Create the phospho workload\n",
    "workload = lab.Workload()\n",
    "\n",
    "# Define the event\n",
    "event_name = \"question_answering\"\n",
    "event_description = \"The user asks a a question to the assistant\"\n",
    "\n",
    "\n",
    "workload.add_job(\n",
    "            lab.Job(\n",
    "                id=event_name,\n",
    "                job_function=lab.job_library.event_detection,\n",
    "                config=EventConfig(\n",
    "                    event_name=event_name,\n",
    "                    event_description=event_description,\n",
    "                ),\n",
    "            ))"
   ]
  },
  {
   "cell_type": "code",
   "execution_count": null,
   "metadata": {},
   "outputs": [],
   "source": [
    "# Create a message \n",
    "message = lab.Message(\n",
    "    id=\"input_\" + \"1\",\n",
    "    role=\"User\",\n",
    "    content=\"What is the capital of France?\",\n",
    "    previous_messages=[],\n",
    ")"
   ]
  }
 ],
 "metadata": {
  "kernelspec": {
   "display_name": ".venv",
   "language": "python",
   "name": "python3"
  },
  "language_info": {
   "codemirror_mode": {
    "name": "ipython",
    "version": 3
   },
   "file_extension": ".py",
   "mimetype": "text/x-python",
   "name": "python",
   "nbconvert_exporter": "python",
   "pygments_lexer": "ipython3",
   "version": "3.9.6"
  }
 },
 "nbformat": 4,
 "nbformat_minor": 2
}
